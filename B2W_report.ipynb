{
 "cells": [
  {
   "cell_type": "markdown",
   "metadata": {},
   "source": [
    "# <font color='27e2c7'>ANÁLISE DE DADOS – B2W DIGITAL BIT SP / FRETE</font>\n",
    "\n",
    "## Tabela de Conteúdos\n",
    "\n",
    "[1. Informações básicas](#1.-Informações-básicas)\n",
    "\n",
    "[2. Dados](#2.-Dados)\n",
    "\n",
    "[3. Visualizações](#3.-Visualizações)\n",
    "\n",
    "* [3.1 Preparação](#3.1-Preparação)\n"
   ]
  },
  {
   "cell_type": "markdown",
   "metadata": {},
   "source": [
    "## 1. Informações básicas\n",
    "[Retorna a Tabela de Conteúdos](#Tabela-de-Conteúdos)\n",
    "\n",
    "**Fonte dos dados**: B2W\n",
    "\n",
    "**Descrição das variáveis:**\n",
    "\n",
    "| Variável | Descrição | Tipo |  \n",
    "|:---|:---|:---|\n",
    "| mes | Ano - Mês | Nominal |\n",
    "|departamento | Nome do departamento | Nominal |\n",
    "| uf | Estado da federação | Nominal |\n",
    "| item | Código do item | Nominal |\n",
    "| faturamento_produto | Faturamento do produto | Contínua |\n",
    "| faturamento_frete | Faturamento do frete | Contínua |\n",
    "| custo_produto | Custo do produto | Contínua |\n",
    "| custo_frete | Custo do frete | Contínua |\n",
    "| custo_mkt | Custo do marketing | Contínua |\n",
    "| desconto_produto | Desconto no produto | Contínua | \n",
    "| desconto_frete | Desconto no frete | Contínia |\n",
    "| visitas | Número de visitas | Discreta |\n",
    "| vendas | Número de vendas | Discreta |"
   ]
  },
  {
   "cell_type": "markdown",
   "metadata": {},
   "source": [
    "## 2. Dados\n",
    "[Retorna a Tabela de Conteúdos](#Tabela-de-Conteúdos)"
   ]
  },
  {
   "cell_type": "code",
   "execution_count": 2,
   "metadata": {},
   "outputs": [],
   "source": [
    "# import libraries\n",
    "import pandas as pd\n",
    "import numpy as np\n",
    "import matplotlib.pyplot as plt\n",
    "import seaborn as sns "
   ]
  },
  {
   "cell_type": "code",
   "execution_count": 8,
   "metadata": {},
   "outputs": [],
   "source": [
    "# import data\n",
    "df = pd.read_csv(\"data/base_db.csv\", sep=';')"
   ]
  },
  {
   "cell_type": "code",
   "execution_count": 55,
   "metadata": {},
   "outputs": [
    {
     "name": "stdout",
     "output_type": "stream",
     "text": [
      "Amostragem da base de dados:\n"
     ]
    },
    {
     "data": {
      "text/html": [
       "<div>\n",
       "<style scoped>\n",
       "    .dataframe tbody tr th:only-of-type {\n",
       "        vertical-align: middle;\n",
       "    }\n",
       "\n",
       "    .dataframe tbody tr th {\n",
       "        vertical-align: top;\n",
       "    }\n",
       "\n",
       "    .dataframe thead th {\n",
       "        text-align: right;\n",
       "    }\n",
       "</style>\n",
       "<table border=\"1\" class=\"dataframe\">\n",
       "  <thead>\n",
       "    <tr style=\"text-align: right;\">\n",
       "      <th></th>\n",
       "      <th>mes</th>\n",
       "      <th>departamento</th>\n",
       "      <th>uf</th>\n",
       "      <th>item</th>\n",
       "      <th>faturamento_produto</th>\n",
       "      <th>faturamento_frete</th>\n",
       "      <th>custo_produto</th>\n",
       "      <th>custo_frete</th>\n",
       "      <th>custo_mkt</th>\n",
       "      <th>desconto_produto</th>\n",
       "      <th>desconto_frete</th>\n",
       "      <th>visitas</th>\n",
       "      <th>vendas</th>\n",
       "    </tr>\n",
       "  </thead>\n",
       "  <tbody>\n",
       "    <tr>\n",
       "      <th>11</th>\n",
       "      <td>2018-06</td>\n",
       "      <td>Cadeiras</td>\n",
       "      <td>MT</td>\n",
       "      <td>3</td>\n",
       "      <td>39480.00</td>\n",
       "      <td>6768.0</td>\n",
       "      <td>28200.0</td>\n",
       "      <td>6580</td>\n",
       "      <td>940</td>\n",
       "      <td>0.00</td>\n",
       "      <td>752.0</td>\n",
       "      <td>3135</td>\n",
       "      <td>94</td>\n",
       "    </tr>\n",
       "    <tr>\n",
       "      <th>3</th>\n",
       "      <td>2018-06</td>\n",
       "      <td>Bolas de Gude</td>\n",
       "      <td>PE</td>\n",
       "      <td>1</td>\n",
       "      <td>4954.25</td>\n",
       "      <td>8940.0</td>\n",
       "      <td>1490.0</td>\n",
       "      <td>5960</td>\n",
       "      <td>745</td>\n",
       "      <td>260.75</td>\n",
       "      <td>0.0</td>\n",
       "      <td>10784</td>\n",
       "      <td>735</td>\n",
       "    </tr>\n",
       "    <tr>\n",
       "      <th>62</th>\n",
       "      <td>2018-08</td>\n",
       "      <td>Bolas de Gude</td>\n",
       "      <td>SP</td>\n",
       "      <td>3</td>\n",
       "      <td>3721.50</td>\n",
       "      <td>7856.5</td>\n",
       "      <td>827.0</td>\n",
       "      <td>5789</td>\n",
       "      <td>827</td>\n",
       "      <td>413.50</td>\n",
       "      <td>413.5</td>\n",
       "      <td>8352</td>\n",
       "      <td>857</td>\n",
       "    </tr>\n",
       "    <tr>\n",
       "      <th>16</th>\n",
       "      <td>2018-06</td>\n",
       "      <td>Cadeiras</td>\n",
       "      <td>SP</td>\n",
       "      <td>2</td>\n",
       "      <td>148050.00</td>\n",
       "      <td>30456.0</td>\n",
       "      <td>76140.0</td>\n",
       "      <td>25380</td>\n",
       "      <td>4230</td>\n",
       "      <td>0.00</td>\n",
       "      <td>3384.0</td>\n",
       "      <td>14258</td>\n",
       "      <td>439</td>\n",
       "    </tr>\n",
       "    <tr>\n",
       "      <th>26</th>\n",
       "      <td>2018-06</td>\n",
       "      <td>Maquinas Fotograficas</td>\n",
       "      <td>SP</td>\n",
       "      <td>3</td>\n",
       "      <td>684700.00</td>\n",
       "      <td>0.0</td>\n",
       "      <td>517700.0</td>\n",
       "      <td>15030</td>\n",
       "      <td>15030</td>\n",
       "      <td>0.00</td>\n",
       "      <td>16700.0</td>\n",
       "      <td>4470</td>\n",
       "      <td>177</td>\n",
       "    </tr>\n",
       "  </tbody>\n",
       "</table>\n",
       "</div>"
      ],
      "text/plain": [
       "        mes           departamento  uf  item  faturamento_produto  \\\n",
       "11  2018-06               Cadeiras  MT     3             39480.00   \n",
       "3   2018-06          Bolas de Gude  PE     1              4954.25   \n",
       "62  2018-08          Bolas de Gude  SP     3              3721.50   \n",
       "16  2018-06               Cadeiras  SP     2            148050.00   \n",
       "26  2018-06  Maquinas Fotograficas  SP     3            684700.00   \n",
       "\n",
       "    faturamento_frete  custo_produto  custo_frete  custo_mkt  \\\n",
       "11             6768.0        28200.0         6580        940   \n",
       "3              8940.0         1490.0         5960        745   \n",
       "62             7856.5          827.0         5789        827   \n",
       "16            30456.0        76140.0        25380       4230   \n",
       "26                0.0       517700.0        15030      15030   \n",
       "\n",
       "    desconto_produto  desconto_frete  visitas  vendas  \n",
       "11              0.00           752.0     3135      94  \n",
       "3             260.75             0.0    10784     735  \n",
       "62            413.50           413.5     8352     857  \n",
       "16              0.00          3384.0    14258     439  \n",
       "26              0.00         16700.0     4470     177  "
      ]
     },
     "execution_count": 55,
     "metadata": {},
     "output_type": "execute_result"
    }
   ],
   "source": [
    "print(\"Amostragem da base de dados:\")\n",
    "df.sample(5)"
   ]
  },
  {
   "cell_type": "code",
   "execution_count": 12,
   "metadata": {},
   "outputs": [
    {
     "name": "stdout",
     "output_type": "stream",
     "text": [
      "A base de dados possui 108 linhas e 13 variáveis.\n"
     ]
    }
   ],
   "source": [
    "print(f\"A base de dados possui {df.shape[0]} linhas e {df.shape[1]} variáveis.\")"
   ]
  },
  {
   "cell_type": "code",
   "execution_count": 13,
   "metadata": {},
   "outputs": [
    {
     "name": "stdout",
     "output_type": "stream",
     "text": [
      "<class 'pandas.core.frame.DataFrame'>\n",
      "RangeIndex: 108 entries, 0 to 107\n",
      "Data columns (total 13 columns):\n",
      " #   Column               Non-Null Count  Dtype  \n",
      "---  ------               --------------  -----  \n",
      " 0   mes                  108 non-null    object \n",
      " 1   departamento         108 non-null    object \n",
      " 2   uf                   108 non-null    object \n",
      " 3   item                 108 non-null    int64  \n",
      " 4   faturamento_produto  108 non-null    float64\n",
      " 5   faturamento_frete    108 non-null    float64\n",
      " 6   custo_produto        108 non-null    float64\n",
      " 7   custo_frete          108 non-null    int64  \n",
      " 8   custo_mkt            108 non-null    int64  \n",
      " 9   desconto_produto     108 non-null    float64\n",
      " 10  desconto_frete       108 non-null    float64\n",
      " 11  visitas              108 non-null    int64  \n",
      " 12  vendas               108 non-null    int64  \n",
      "dtypes: float64(5), int64(5), object(3)\n",
      "memory usage: 11.1+ KB\n"
     ]
    }
   ],
   "source": [
    "df.info()"
   ]
  },
  {
   "cell_type": "markdown",
   "metadata": {},
   "source": [
    "✔️ Não há valores nulos."
   ]
  },
  {
   "cell_type": "code",
   "execution_count": 29,
   "metadata": {},
   "outputs": [],
   "source": [
    "# correct typo\n",
    "df.loc[df['departamento'] == 'Maquinas Fotogr\\xa0ficas', 'departamento'] = 'Maquinas Fotograficas'"
   ]
  },
  {
   "cell_type": "code",
   "execution_count": 30,
   "metadata": {},
   "outputs": [
    {
     "name": "stdout",
     "output_type": "stream",
     "text": [
      "Os dados referem-se aos:\n",
      "- meses: ['2018-06', '2018-07', '2018-08', '2018-09'].\n",
      "- departamentos: ['Bolas de Gude', 'Cadeiras', 'Maquinas Fotograficas']\n",
      "- estados: ['MT', 'PE', 'SP']\n",
      "- itens: [1, 2, 3]\n"
     ]
    }
   ],
   "source": [
    "print(f\"Os dados referem-se aos:\")\n",
    "print(f\"- meses: {df['mes'].unique().tolist()}.\")\n",
    "print(f\"- departamentos: {df['departamento'].unique().tolist()}\")\n",
    "print(f\"- estados: {df['uf'].unique().tolist()}\")\n",
    "print(f\"- itens: {df['item'].unique().tolist()}\")"
   ]
  },
  {
   "cell_type": "markdown",
   "metadata": {},
   "source": [
    "## 3. Visualizações \n",
    "[Retorna a Tabela de Conteúdos](#Tabela-de-Conteúdos)"
   ]
  },
  {
   "cell_type": "code",
   "execution_count": 123,
   "metadata": {},
   "outputs": [
    {
     "data": {
      "image/png": "[encoded data removed]",
      "text/plain": [
       "<Figure size 864x576 with 4 Axes>"
      ]
     },
     "metadata": {},
     "output_type": "display_data"
    }
   ],
   "source": [
    "f, axes = plt.subplots(2, 2, figsize=(12, 8), sharey='col')\n",
    "sns.despine(left=True)\n",
    "\n",
    "sns.countplot(x=\"mes\", data=df, ax=axes[0, 0],  palette=\"Greens\")\n",
    "sns.countplot(x=\"departamento\", data=df, ax=axes[0, 1],  palette=\"Greens\")\n",
    "sns.countplot(x=\"uf\", data=df, ax=axes[1, 0],  palette=\"Greens\")\n",
    "sns.countplot(x=\"item\", data=df, ax=axes[1, 1],  palette=\"Greens\")\n",
    "\n",
    "\n",
    "# plt.setp(axes, yticks=[])\n",
    "# plt.setp(axes, xticks=[])\n",
    "plt.suptitle('Distribuição das categorias')\n",
    "plt.tight_layout()"
   ]
  },
  {
   "cell_type": "markdown",
   "metadata": {},
   "source": [
    "As variáveis 'mes', 'departamento', 'uf' e 'item' estão uniformemente distribuídas."
   ]
  },
  {
   "cell_type": "code",
   "execution_count": 166,
   "metadata": {},
   "outputs": [
    {
     "ename": "TypeError",
     "evalue": "'AxesSubplot' object does not support indexing",
     "output_type": "error",
     "traceback": [
      "\u001b[0;31m---------------------------------------------------------------------------\u001b[0m",
      "\u001b[0;31mTypeError\u001b[0m                                 Traceback (most recent call last)",
      "\u001b[0;32m<ipython-input-166-138eb27ca2cf>\u001b[0m in \u001b[0;36m<module>\u001b[0;34m\u001b[0m\n\u001b[1;32m      8\u001b[0m \u001b[0mf\u001b[0m\u001b[0;34m.\u001b[0m\u001b[0mdelaxes\u001b[0m\u001b[0;34m(\u001b[0m\u001b[0max\u001b[0m\u001b[0;34m=\u001b[0m\u001b[0maxes\u001b[0m\u001b[0;34m[\u001b[0m\u001b[0;36m1\u001b[0m\u001b[0;34m,\u001b[0m \u001b[0;36m1\u001b[0m\u001b[0;34m]\u001b[0m\u001b[0;34m)\u001b[0m\u001b[0;34m\u001b[0m\u001b[0;34m\u001b[0m\u001b[0m\n\u001b[1;32m      9\u001b[0m \u001b[0;34m\u001b[0m\u001b[0m\n\u001b[0;32m---> 10\u001b[0;31m \u001b[0mticks\u001b[0m \u001b[0;34m=\u001b[0m \u001b[0mg\u001b[0m\u001b[0;34m.\u001b[0m\u001b[0maxes\u001b[0m\u001b[0;34m[\u001b[0m\u001b[0;36m0\u001b[0m\u001b[0;34m]\u001b[0m\u001b[0;34m[\u001b[0m\u001b[0;36m0\u001b[0m\u001b[0;34m]\u001b[0m\u001b[0;34m.\u001b[0m\u001b[0mget_xticks\u001b[0m\u001b[0;34m(\u001b[0m\u001b[0;34m)\u001b[0m\u001b[0;34m\u001b[0m\u001b[0;34m\u001b[0m\u001b[0m\n\u001b[0m\u001b[1;32m     11\u001b[0m \u001b[0;34m\u001b[0m\u001b[0m\n\u001b[1;32m     12\u001b[0m \u001b[0mxlabels\u001b[0m \u001b[0;34m=\u001b[0m \u001b[0;34m[\u001b[0m\u001b[0;34m'$'\u001b[0m \u001b[0;34m+\u001b[0m \u001b[0;34m'{:,.0f}'\u001b[0m\u001b[0;34m.\u001b[0m\u001b[0mformat\u001b[0m\u001b[0;34m(\u001b[0m\u001b[0mx\u001b[0m\u001b[0;34m)\u001b[0m \u001b[0;32mfor\u001b[0m \u001b[0mx\u001b[0m \u001b[0;32min\u001b[0m \u001b[0mticks\u001b[0m\u001b[0;34m]\u001b[0m\u001b[0;34m\u001b[0m\u001b[0;34m\u001b[0m\u001b[0m\n",
      "\u001b[0;31mTypeError\u001b[0m: 'AxesSubplot' object does not support indexing"
     ]
    },
    {
     "data": {
      "image/png": "[encoded data removed]",
      "text/plain": [
       "<Figure size 864x576 with 2 Axes>"
      ]
     },
     "metadata": {},
     "output_type": "display_data"
    }
   ],
   "source": [
    "f, axes = plt.subplots(2, 2, figsize=(12, 8), sharey='col')\n",
    "#sns.despine(left=True)\n",
    "\n",
    "g=sns.histplot(df['faturamento_produto'], ax=axes[0, 0],  color=\"green\")\n",
    "sns.histplot(df['faturamento_frete'], ax=axes[0, 1],  color=\"green\")\n",
    "\n",
    "f.delaxes(ax=axes[1, 0])\n",
    "f.delaxes(ax=axes[1, 1])\n",
    "\n",
    "\n",
    "# xlabels = ['{:,.0f}'.format(x) + 'K' for x in g.get_xticks()/1000]\n",
    "# g.set_xticklabels(xlabels)\n",
    "\n",
    "# plt.setp(axes, yticks=[])\n",
    "# plt.setp(axes, xticks=[])\n",
    "plt.suptitle('Distribuição dos faturamentos')\n",
    "plt.tight_layout()"
   ]
  },
  {
   "cell_type": "markdown",
   "metadata": {},
   "source": [
    "💡 "
   ]
  },
  {
   "cell_type": "code",
   "execution_count": null,
   "metadata": {},
   "outputs": [],
   "source": []
  },
  {
   "cell_type": "code",
   "execution_count": null,
   "metadata": {},
   "outputs": [],
   "source": []
  },
  {
   "cell_type": "code",
   "execution_count": 31,
   "metadata": {},
   "outputs": [
    {
     "data": {
      "text/plain": [
       "Index(['mes', 'departamento', 'uf', 'item', 'faturamento_produto',\n",
       "       'faturamento_frete', 'custo_produto', 'custo_frete', 'custo_mkt',\n",
       "       'desconto_produto', 'desconto_frete', 'visitas', 'vendas'],\n",
       "      dtype='object')"
      ]
     },
     "execution_count": 31,
     "metadata": {},
     "output_type": "execute_result"
    }
   ],
   "source": [
    "df.columns"
   ]
  },
  {
   "cell_type": "code",
   "execution_count": 110,
   "metadata": {
    "scrolled": true
   },
   "outputs": [
    {
     "data": {
      "text/plain": [
       "<AxesSubplot:xlabel='item', ylabel='count'>"
      ]
     },
     "execution_count": 110,
     "metadata": {},
     "output_type": "execute_result"
    },
    {
     "data": {
      "image/png": "[encoded data removed]",
      "text/plain": [
       "<Figure size 864x576 with 4 Axes>"
      ]
     },
     "metadata": {},
     "output_type": "display_data"
    }
   ],
   "source": [
    "fig, axes = plt.subplots(2, 2, figsize=(12, 8), sharey='col')\n",
    "fig.suptitle('Distribuição das categorias')\n",
    "sns.despine(left=True)\n",
    "\n",
    "# mes\n",
    "sns.countplot(ax=axes[0, 0], x=\"mes\", palette=\"Greens\", data=df)\n",
    "\n",
    "# departamento\n",
    "sns.countplot(ax=axes[0, 1], x=\"departamento\", palette=\"Greens\", data=df)\n",
    "\n",
    "# uf\n",
    "sns.countplot(ax=axes[1, 0], x=\"uf\", palette=\"Greens\", data=df)\n",
    "\n",
    "# item\n",
    "sns.countplot(ax=axes[1, 1], x=\"item\", palette=\"Greens\", data=df)\n",
    "#axes[1, 1].set_title('departamento')"
   ]
  },
  {
   "cell_type": "code",
   "execution_count": 63,
   "metadata": {},
   "outputs": [
    {
     "data": {
      "text/plain": [
       "Text(0.5, 1.0, 'Distribuição dos meses')"
      ]
     },
     "execution_count": 63,
     "metadata": {},
     "output_type": "execute_result"
    },
    {
     "data": {
      "image/png": "[encoded data removed]",
      "text/plain": [
       "<Figure size 360x360 with 1 Axes>"
      ]
     },
     "metadata": {},
     "output_type": "display_data"
    }
   ],
   "source": [
    "sns.catplot(x=\"mes\", kind=\"count\", palette=\"Greens\", data=df)\n",
    "plt.title('Distribuição dos meses')"
   ]
  },
  {
   "cell_type": "code",
   "execution_count": null,
   "metadata": {},
   "outputs": [],
   "source": []
  },
  {
   "cell_type": "code",
   "execution_count": null,
   "metadata": {},
   "outputs": [],
   "source": []
  },
  {
   "cell_type": "code",
   "execution_count": null,
   "metadata": {},
   "outputs": [],
   "source": []
  },
  {
   "cell_type": "code",
   "execution_count": null,
   "metadata": {},
   "outputs": [],
   "source": []
  },
  {
   "cell_type": "code",
   "execution_count": null,
   "metadata": {},
   "outputs": [],
   "source": []
  },
  {
   "cell_type": "code",
   "execution_count": 16,
   "metadata": {},
   "outputs": [],
   "source": [
    "# copy dataframe\n",
    "df_ = df.copy()"
   ]
  },
  {
   "cell_type": "code",
   "execution_count": 17,
   "metadata": {},
   "outputs": [],
   "source": [
    "# add calculated variables to dataframe \n",
    "df_['faturamento_total'] = df_['faturamento_produto'] + df_['faturamento_frete']\n",
    "df_['custo_total'] = df_['custo_produto'] + df_['custo_frete'] + df_['custo_mkt']\n",
    "df_['desconto_total'] = df_['desconto_produto'] + df_['desconto_frete'] \n",
    "df_['lucro'] = df_['faturamento_total'] - df_['custo_total'] - df_['desconto_total']\n",
    "df_['conversao'] = df_['vendas'] / df_['visitas']"
   ]
  },
  {
   "cell_type": "markdown",
   "metadata": {},
   "source": [
    "✔️ Foram acrescentas as seguintes variáveis: faturamento_total, custo_total, desconto_total, lucro e conversao."
   ]
  },
  {
   "cell_type": "code",
   "execution_count": null,
   "metadata": {},
   "outputs": [],
   "source": []
  },
  {
   "cell_type": "code",
   "execution_count": null,
   "metadata": {},
   "outputs": [],
   "source": []
  },
  {
   "cell_type": "markdown",
   "metadata": {},
   "source": [
    " 👉🏼 "
   ]
  },
  {
   "cell_type": "markdown",
   "metadata": {},
   "source": [
    "Quais os departamentos com mais faturamento? E com mais lucro?"
   ]
  },
  {
   "cell_type": "code",
   "execution_count": 22,
   "metadata": {},
   "outputs": [
    {
     "data": {
      "text/html": [
       "<div>\n",
       "<style scoped>\n",
       "    .dataframe tbody tr th:only-of-type {\n",
       "        vertical-align: middle;\n",
       "    }\n",
       "\n",
       "    .dataframe tbody tr th {\n",
       "        vertical-align: top;\n",
       "    }\n",
       "\n",
       "    .dataframe thead tr th {\n",
       "        text-align: left;\n",
       "    }\n",
       "\n",
       "    .dataframe thead tr:last-of-type th {\n",
       "        text-align: right;\n",
       "    }\n",
       "</style>\n",
       "<table border=\"1\" class=\"dataframe\">\n",
       "  <thead>\n",
       "    <tr>\n",
       "      <th></th>\n",
       "      <th>faturamento_total</th>\n",
       "    </tr>\n",
       "    <tr>\n",
       "      <th></th>\n",
       "      <th>sum</th>\n",
       "    </tr>\n",
       "    <tr>\n",
       "      <th>departamento</th>\n",
       "      <th></th>\n",
       "    </tr>\n",
       "  </thead>\n",
       "  <tbody>\n",
       "    <tr>\n",
       "      <th>Bolas de Gude</th>\n",
       "      <td>464448.7</td>\n",
       "    </tr>\n",
       "    <tr>\n",
       "      <th>Cadeiras</th>\n",
       "      <td>6141458.0</td>\n",
       "    </tr>\n",
       "    <tr>\n",
       "      <th>Maquinas Fotogr ficas</th>\n",
       "      <td>18826450.0</td>\n",
       "    </tr>\n",
       "  </tbody>\n",
       "</table>\n",
       "</div>"
      ],
      "text/plain": [
       "                      faturamento_total\n",
       "                                    sum\n",
       "departamento                           \n",
       "Bolas de Gude                  464448.7\n",
       "Cadeiras                      6141458.0\n",
       "Maquinas Fotogr ficas        18826450.0"
      ]
     },
     "execution_count": 22,
     "metadata": {},
     "output_type": "execute_result"
    }
   ],
   "source": [
    "df_.groupby('departamento').agg({'faturamento_total': ['sum']})"
   ]
  },
  {
   "cell_type": "code",
   "execution_count": 26,
   "metadata": {},
   "outputs": [
    {
     "data": {
      "text/html": [
       "<div>\n",
       "<style scoped>\n",
       "    .dataframe tbody tr th:only-of-type {\n",
       "        vertical-align: middle;\n",
       "    }\n",
       "\n",
       "    .dataframe tbody tr th {\n",
       "        vertical-align: top;\n",
       "    }\n",
       "\n",
       "    .dataframe thead tr th {\n",
       "        text-align: left;\n",
       "    }\n",
       "\n",
       "    .dataframe thead tr:last-of-type th {\n",
       "        text-align: right;\n",
       "    }\n",
       "</style>\n",
       "<table border=\"1\" class=\"dataframe\">\n",
       "  <thead>\n",
       "    <tr>\n",
       "      <th></th>\n",
       "      <th>lucro</th>\n",
       "    </tr>\n",
       "    <tr>\n",
       "      <th></th>\n",
       "      <th>sum</th>\n",
       "    </tr>\n",
       "    <tr>\n",
       "      <th>departamento</th>\n",
       "      <th></th>\n",
       "    </tr>\n",
       "  </thead>\n",
       "  <tbody>\n",
       "    <tr>\n",
       "      <th>Bolas de Gude</th>\n",
       "      <td>111036.4</td>\n",
       "    </tr>\n",
       "    <tr>\n",
       "      <th>Cadeiras</th>\n",
       "      <td>-234484.0</td>\n",
       "    </tr>\n",
       "    <tr>\n",
       "      <th>Maquinas Fotogr ficas</th>\n",
       "      <td>294780.0</td>\n",
       "    </tr>\n",
       "  </tbody>\n",
       "</table>\n",
       "</div>"
      ],
      "text/plain": [
       "                          lucro\n",
       "                            sum\n",
       "departamento                   \n",
       "Bolas de Gude          111036.4\n",
       "Cadeiras              -234484.0\n",
       "Maquinas Fotogr ficas  294780.0"
      ]
     },
     "execution_count": 26,
     "metadata": {},
     "output_type": "execute_result"
    }
   ],
   "source": [
    "df_.groupby('departamento').agg({'lucro': ['sum']})"
   ]
  },
  {
   "cell_type": "code",
   "execution_count": 34,
   "metadata": {},
   "outputs": [
    {
     "data": {
      "text/html": [
       "<div>\n",
       "<style scoped>\n",
       "    .dataframe tbody tr th:only-of-type {\n",
       "        vertical-align: middle;\n",
       "    }\n",
       "\n",
       "    .dataframe tbody tr th {\n",
       "        vertical-align: top;\n",
       "    }\n",
       "\n",
       "    .dataframe thead tr th {\n",
       "        text-align: left;\n",
       "    }\n",
       "\n",
       "    .dataframe thead tr:last-of-type th {\n",
       "        text-align: right;\n",
       "    }\n",
       "</style>\n",
       "<table border=\"1\" class=\"dataframe\">\n",
       "  <thead>\n",
       "    <tr>\n",
       "      <th></th>\n",
       "      <th></th>\n",
       "      <th colspan=\"2\" halign=\"left\">conversao</th>\n",
       "    </tr>\n",
       "    <tr>\n",
       "      <th></th>\n",
       "      <th></th>\n",
       "      <th>max</th>\n",
       "      <th>mean</th>\n",
       "    </tr>\n",
       "    <tr>\n",
       "      <th>departamento</th>\n",
       "      <th>uf</th>\n",
       "      <th></th>\n",
       "      <th></th>\n",
       "    </tr>\n",
       "  </thead>\n",
       "  <tbody>\n",
       "    <tr>\n",
       "      <th rowspan=\"3\" valign=\"top\">Bolas de Gude</th>\n",
       "      <th>MT</th>\n",
       "      <td>0.154214</td>\n",
       "      <td>0.105591</td>\n",
       "    </tr>\n",
       "    <tr>\n",
       "      <th>PE</th>\n",
       "      <td>0.120513</td>\n",
       "      <td>0.092752</td>\n",
       "    </tr>\n",
       "    <tr>\n",
       "      <th>SP</th>\n",
       "      <td>0.136864</td>\n",
       "      <td>0.102376</td>\n",
       "    </tr>\n",
       "    <tr>\n",
       "      <th rowspan=\"3\" valign=\"top\">Cadeiras</th>\n",
       "      <th>MT</th>\n",
       "      <td>0.111834</td>\n",
       "      <td>0.073476</td>\n",
       "    </tr>\n",
       "    <tr>\n",
       "      <th>PE</th>\n",
       "      <td>0.091110</td>\n",
       "      <td>0.057694</td>\n",
       "    </tr>\n",
       "    <tr>\n",
       "      <th>SP</th>\n",
       "      <td>0.082748</td>\n",
       "      <td>0.058437</td>\n",
       "    </tr>\n",
       "    <tr>\n",
       "      <th rowspan=\"3\" valign=\"top\">Maquinas Fotogr ficas</th>\n",
       "      <th>MT</th>\n",
       "      <td>0.151845</td>\n",
       "      <td>0.105517</td>\n",
       "    </tr>\n",
       "    <tr>\n",
       "      <th>PE</th>\n",
       "      <td>0.139040</td>\n",
       "      <td>0.077098</td>\n",
       "    </tr>\n",
       "    <tr>\n",
       "      <th>SP</th>\n",
       "      <td>0.116859</td>\n",
       "      <td>0.077073</td>\n",
       "    </tr>\n",
       "  </tbody>\n",
       "</table>\n",
       "</div>"
      ],
      "text/plain": [
       "                         conversao          \n",
       "                               max      mean\n",
       "departamento          uf                    \n",
       "Bolas de Gude         MT  0.154214  0.105591\n",
       "                      PE  0.120513  0.092752\n",
       "                      SP  0.136864  0.102376\n",
       "Cadeiras              MT  0.111834  0.073476\n",
       "                      PE  0.091110  0.057694\n",
       "                      SP  0.082748  0.058437\n",
       "Maquinas Fotogr ficas MT  0.151845  0.105517\n",
       "                      PE  0.139040  0.077098\n",
       "                      SP  0.116859  0.077073"
      ]
     },
     "execution_count": 34,
     "metadata": {},
     "output_type": "execute_result"
    }
   ],
   "source": [
    "df_.groupby(['departamento','uf']).agg({'conversao': ['max','mean']})"
   ]
  },
  {
   "cell_type": "code",
   "execution_count": 38,
   "metadata": {},
   "outputs": [
    {
     "data": {
      "text/html": [
       "<div>\n",
       "<style scoped>\n",
       "    .dataframe tbody tr th:only-of-type {\n",
       "        vertical-align: middle;\n",
       "    }\n",
       "\n",
       "    .dataframe tbody tr th {\n",
       "        vertical-align: top;\n",
       "    }\n",
       "\n",
       "    .dataframe thead tr th {\n",
       "        text-align: left;\n",
       "    }\n",
       "\n",
       "    .dataframe thead tr:last-of-type th {\n",
       "        text-align: right;\n",
       "    }\n",
       "</style>\n",
       "<table border=\"1\" class=\"dataframe\">\n",
       "  <thead>\n",
       "    <tr>\n",
       "      <th></th>\n",
       "      <th colspan=\"2\" halign=\"left\">custo_frete</th>\n",
       "      <th colspan=\"2\" halign=\"left\">custo_mkt</th>\n",
       "    </tr>\n",
       "    <tr>\n",
       "      <th></th>\n",
       "      <th>mean</th>\n",
       "      <th>sum</th>\n",
       "      <th>mean</th>\n",
       "      <th>sum</th>\n",
       "    </tr>\n",
       "    <tr>\n",
       "      <th>departamento</th>\n",
       "      <th></th>\n",
       "      <th></th>\n",
       "      <th></th>\n",
       "      <th></th>\n",
       "    </tr>\n",
       "  </thead>\n",
       "  <tbody>\n",
       "    <tr>\n",
       "      <th>Bolas de Gude</th>\n",
       "      <td>6345.583333</td>\n",
       "      <td>228441</td>\n",
       "      <td>1361.555556</td>\n",
       "      <td>49016</td>\n",
       "    </tr>\n",
       "    <tr>\n",
       "      <th>Cadeiras</th>\n",
       "      <td>33612.500000</td>\n",
       "      <td>1210050</td>\n",
       "      <td>20388.888889</td>\n",
       "      <td>734000</td>\n",
       "    </tr>\n",
       "    <tr>\n",
       "      <th>Maquinas Fotogr ficas</th>\n",
       "      <td>19560.833333</td>\n",
       "      <td>704190</td>\n",
       "      <td>20692.500000</td>\n",
       "      <td>744930</td>\n",
       "    </tr>\n",
       "  </tbody>\n",
       "</table>\n",
       "</div>"
      ],
      "text/plain": [
       "                        custo_frete              custo_mkt        \n",
       "                               mean      sum          mean     sum\n",
       "departamento                                                      \n",
       "Bolas de Gude           6345.583333   228441   1361.555556   49016\n",
       "Cadeiras               33612.500000  1210050  20388.888889  734000\n",
       "Maquinas Fotogr ficas  19560.833333   704190  20692.500000  744930"
      ]
     },
     "execution_count": 38,
     "metadata": {},
     "output_type": "execute_result"
    }
   ],
   "source": [
    "df_.groupby('departamento').agg({'custo_frete':['mean','sum'],'custo_mkt': ['mean','sum']})"
   ]
  },
  {
   "cell_type": "code",
   "execution_count": 18,
   "metadata": {},
   "outputs": [],
   "source": []
  },
  {
   "cell_type": "code",
   "execution_count": 10,
   "metadata": {},
   "outputs": [
    {
     "data": {
      "text/plain": [
       "73"
      ]
     },
     "execution_count": 10,
     "metadata": {},
     "output_type": "execute_result"
    }
   ],
   "source": [
    "df_['desconto_frete'].nunique()"
   ]
  },
  {
   "cell_type": "code",
   "execution_count": 39,
   "metadata": {},
   "outputs": [
    {
     "data": {
      "text/html": [
       "<div>\n",
       "<style scoped>\n",
       "    .dataframe tbody tr th:only-of-type {\n",
       "        vertical-align: middle;\n",
       "    }\n",
       "\n",
       "    .dataframe tbody tr th {\n",
       "        vertical-align: top;\n",
       "    }\n",
       "\n",
       "    .dataframe thead th {\n",
       "        text-align: right;\n",
       "    }\n",
       "</style>\n",
       "<table border=\"1\" class=\"dataframe\">\n",
       "  <thead>\n",
       "    <tr style=\"text-align: right;\">\n",
       "      <th></th>\n",
       "      <th>item</th>\n",
       "      <th>faturamento_produto</th>\n",
       "      <th>faturamento_frete</th>\n",
       "      <th>custo_produto</th>\n",
       "      <th>custo_frete</th>\n",
       "      <th>custo_mkt</th>\n",
       "      <th>desconto_produto</th>\n",
       "      <th>desconto_frete</th>\n",
       "      <th>visitas</th>\n",
       "      <th>vendas</th>\n",
       "      <th>faturamento_total</th>\n",
       "      <th>custo_total</th>\n",
       "      <th>desconto_total</th>\n",
       "      <th>lucro</th>\n",
       "      <th>conversao</th>\n",
       "    </tr>\n",
       "  </thead>\n",
       "  <tbody>\n",
       "    <tr>\n",
       "      <th>item</th>\n",
       "      <td>1.000000</td>\n",
       "      <td>0.211554</td>\n",
       "      <td>-0.121029</td>\n",
       "      <td>0.220571</td>\n",
       "      <td>-0.137678</td>\n",
       "      <td>-0.100031</td>\n",
       "      <td>0.150372</td>\n",
       "      <td>-0.054921</td>\n",
       "      <td>0.000000</td>\n",
       "      <td>0.000000</td>\n",
       "      <td>0.202355</td>\n",
       "      <td>0.191027</td>\n",
       "      <td>0.104307</td>\n",
       "      <td>0.112784</td>\n",
       "      <td>0.000000</td>\n",
       "    </tr>\n",
       "    <tr>\n",
       "      <th>faturamento_produto</th>\n",
       "      <td>0.211554</td>\n",
       "      <td>1.000000</td>\n",
       "      <td>-0.006745</td>\n",
       "      <td>0.994069</td>\n",
       "      <td>0.359845</td>\n",
       "      <td>0.576005</td>\n",
       "      <td>0.699155</td>\n",
       "      <td>0.707289</td>\n",
       "      <td>-0.316896</td>\n",
       "      <td>-0.280133</td>\n",
       "      <td>0.997384</td>\n",
       "      <td>0.992905</td>\n",
       "      <td>0.752771</td>\n",
       "      <td>0.074556</td>\n",
       "      <td>0.130151</td>\n",
       "    </tr>\n",
       "    <tr>\n",
       "      <th>faturamento_frete</th>\n",
       "      <td>-0.121029</td>\n",
       "      <td>-0.006745</td>\n",
       "      <td>1.000000</td>\n",
       "      <td>-0.061291</td>\n",
       "      <td>0.856041</td>\n",
       "      <td>0.683868</td>\n",
       "      <td>0.370858</td>\n",
       "      <td>-0.055891</td>\n",
       "      <td>0.595697</td>\n",
       "      <td>0.415020</td>\n",
       "      <td>0.065555</td>\n",
       "      <td>0.044778</td>\n",
       "      <td>0.279380</td>\n",
       "      <td>-0.069022</td>\n",
       "      <td>-0.176680</td>\n",
       "    </tr>\n",
       "    <tr>\n",
       "      <th>custo_produto</th>\n",
       "      <td>0.220571</td>\n",
       "      <td>0.994069</td>\n",
       "      <td>-0.061291</td>\n",
       "      <td>1.000000</td>\n",
       "      <td>0.312350</td>\n",
       "      <td>0.544930</td>\n",
       "      <td>0.707145</td>\n",
       "      <td>0.713396</td>\n",
       "      <td>-0.361618</td>\n",
       "      <td>-0.297101</td>\n",
       "      <td>0.987523</td>\n",
       "      <td>0.993213</td>\n",
       "      <td>0.760824</td>\n",
       "      <td>0.004729</td>\n",
       "      <td>0.178485</td>\n",
       "    </tr>\n",
       "    <tr>\n",
       "      <th>custo_frete</th>\n",
       "      <td>-0.137678</td>\n",
       "      <td>0.359845</td>\n",
       "      <td>0.856041</td>\n",
       "      <td>0.312350</td>\n",
       "      <td>1.000000</td>\n",
       "      <td>0.911597</td>\n",
       "      <td>0.649797</td>\n",
       "      <td>0.454975</td>\n",
       "      <td>0.373836</td>\n",
       "      <td>0.252259</td>\n",
       "      <td>0.420959</td>\n",
       "      <td>0.419283</td>\n",
       "      <td>0.643327</td>\n",
       "      <td>-0.236057</td>\n",
       "      <td>-0.054634</td>\n",
       "    </tr>\n",
       "    <tr>\n",
       "      <th>custo_mkt</th>\n",
       "      <td>-0.100031</td>\n",
       "      <td>0.576005</td>\n",
       "      <td>0.683868</td>\n",
       "      <td>0.544930</td>\n",
       "      <td>0.911597</td>\n",
       "      <td>1.000000</td>\n",
       "      <td>0.746891</td>\n",
       "      <td>0.610620</td>\n",
       "      <td>0.117837</td>\n",
       "      <td>0.130313</td>\n",
       "      <td>0.624213</td>\n",
       "      <td>0.636559</td>\n",
       "      <td>0.763842</td>\n",
       "      <td>-0.277173</td>\n",
       "      <td>0.096409</td>\n",
       "    </tr>\n",
       "    <tr>\n",
       "      <th>desconto_produto</th>\n",
       "      <td>0.150372</td>\n",
       "      <td>0.699155</td>\n",
       "      <td>0.370858</td>\n",
       "      <td>0.707145</td>\n",
       "      <td>0.649797</td>\n",
       "      <td>0.746891</td>\n",
       "      <td>1.000000</td>\n",
       "      <td>0.655802</td>\n",
       "      <td>0.051196</td>\n",
       "      <td>0.131584</td>\n",
       "      <td>0.724475</td>\n",
       "      <td>0.754737</td>\n",
       "      <td>0.977698</td>\n",
       "      <td>-0.485036</td>\n",
       "      <td>0.305118</td>\n",
       "    </tr>\n",
       "    <tr>\n",
       "      <th>desconto_frete</th>\n",
       "      <td>-0.054921</td>\n",
       "      <td>0.707289</td>\n",
       "      <td>-0.055891</td>\n",
       "      <td>0.713396</td>\n",
       "      <td>0.454975</td>\n",
       "      <td>0.610620</td>\n",
       "      <td>0.655802</td>\n",
       "      <td>1.000000</td>\n",
       "      <td>-0.240048</td>\n",
       "      <td>-0.154543</td>\n",
       "      <td>0.701744</td>\n",
       "      <td>0.738509</td>\n",
       "      <td>0.799723</td>\n",
       "      <td>-0.390864</td>\n",
       "      <td>0.258078</td>\n",
       "    </tr>\n",
       "    <tr>\n",
       "      <th>visitas</th>\n",
       "      <td>0.000000</td>\n",
       "      <td>-0.316896</td>\n",
       "      <td>0.595697</td>\n",
       "      <td>-0.361618</td>\n",
       "      <td>0.373836</td>\n",
       "      <td>0.117837</td>\n",
       "      <td>0.051196</td>\n",
       "      <td>-0.240048</td>\n",
       "      <td>1.000000</td>\n",
       "      <td>0.735191</td>\n",
       "      <td>-0.273161</td>\n",
       "      <td>-0.305530</td>\n",
       "      <td>-0.026065</td>\n",
       "      <td>0.019454</td>\n",
       "      <td>-0.208588</td>\n",
       "    </tr>\n",
       "    <tr>\n",
       "      <th>vendas</th>\n",
       "      <td>0.000000</td>\n",
       "      <td>-0.280133</td>\n",
       "      <td>0.415020</td>\n",
       "      <td>-0.297101</td>\n",
       "      <td>0.252259</td>\n",
       "      <td>0.130313</td>\n",
       "      <td>0.131584</td>\n",
       "      <td>-0.154543</td>\n",
       "      <td>0.735191</td>\n",
       "      <td>1.000000</td>\n",
       "      <td>-0.249536</td>\n",
       "      <td>-0.252853</td>\n",
       "      <td>0.061651</td>\n",
       "      <td>-0.198403</td>\n",
       "      <td>0.389315</td>\n",
       "    </tr>\n",
       "    <tr>\n",
       "      <th>faturamento_total</th>\n",
       "      <td>0.202355</td>\n",
       "      <td>0.997384</td>\n",
       "      <td>0.065555</td>\n",
       "      <td>0.987523</td>\n",
       "      <td>0.420959</td>\n",
       "      <td>0.624213</td>\n",
       "      <td>0.724475</td>\n",
       "      <td>0.701744</td>\n",
       "      <td>-0.273161</td>\n",
       "      <td>-0.249536</td>\n",
       "      <td>1.000000</td>\n",
       "      <td>0.994028</td>\n",
       "      <td>0.771364</td>\n",
       "      <td>0.069408</td>\n",
       "      <td>0.117102</td>\n",
       "    </tr>\n",
       "    <tr>\n",
       "      <th>custo_total</th>\n",
       "      <td>0.191027</td>\n",
       "      <td>0.992905</td>\n",
       "      <td>0.044778</td>\n",
       "      <td>0.993213</td>\n",
       "      <td>0.419283</td>\n",
       "      <td>0.636559</td>\n",
       "      <td>0.754737</td>\n",
       "      <td>0.738509</td>\n",
       "      <td>-0.305530</td>\n",
       "      <td>-0.252853</td>\n",
       "      <td>0.994028</td>\n",
       "      <td>1.000000</td>\n",
       "      <td>0.805658</td>\n",
       "      <td>-0.029172</td>\n",
       "      <td>0.169419</td>\n",
       "    </tr>\n",
       "    <tr>\n",
       "      <th>desconto_total</th>\n",
       "      <td>0.104307</td>\n",
       "      <td>0.752771</td>\n",
       "      <td>0.279380</td>\n",
       "      <td>0.760824</td>\n",
       "      <td>0.643327</td>\n",
       "      <td>0.763842</td>\n",
       "      <td>0.977698</td>\n",
       "      <td>0.799723</td>\n",
       "      <td>-0.026065</td>\n",
       "      <td>0.061651</td>\n",
       "      <td>0.771364</td>\n",
       "      <td>0.805658</td>\n",
       "      <td>1.000000</td>\n",
       "      <td>-0.494465</td>\n",
       "      <td>0.314443</td>\n",
       "    </tr>\n",
       "    <tr>\n",
       "      <th>lucro</th>\n",
       "      <td>0.112784</td>\n",
       "      <td>0.074556</td>\n",
       "      <td>-0.069022</td>\n",
       "      <td>0.004729</td>\n",
       "      <td>-0.236057</td>\n",
       "      <td>-0.277173</td>\n",
       "      <td>-0.485036</td>\n",
       "      <td>-0.390864</td>\n",
       "      <td>0.019454</td>\n",
       "      <td>-0.198403</td>\n",
       "      <td>0.069408</td>\n",
       "      <td>-0.029172</td>\n",
       "      <td>-0.494465</td>\n",
       "      <td>1.000000</td>\n",
       "      <td>-0.470575</td>\n",
       "    </tr>\n",
       "    <tr>\n",
       "      <th>conversao</th>\n",
       "      <td>0.000000</td>\n",
       "      <td>0.130151</td>\n",
       "      <td>-0.176680</td>\n",
       "      <td>0.178485</td>\n",
       "      <td>-0.054634</td>\n",
       "      <td>0.096409</td>\n",
       "      <td>0.305118</td>\n",
       "      <td>0.258078</td>\n",
       "      <td>-0.208588</td>\n",
       "      <td>0.389315</td>\n",
       "      <td>0.117102</td>\n",
       "      <td>0.169419</td>\n",
       "      <td>0.314443</td>\n",
       "      <td>-0.470575</td>\n",
       "      <td>1.000000</td>\n",
       "    </tr>\n",
       "  </tbody>\n",
       "</table>\n",
       "</div>"
      ],
      "text/plain": [
       "                         item  faturamento_produto  faturamento_frete  \\\n",
       "item                 1.000000             0.211554          -0.121029   \n",
       "faturamento_produto  0.211554             1.000000          -0.006745   \n",
       "faturamento_frete   -0.121029            -0.006745           1.000000   \n",
       "custo_produto        0.220571             0.994069          -0.061291   \n",
       "custo_frete         -0.137678             0.359845           0.856041   \n",
       "custo_mkt           -0.100031             0.576005           0.683868   \n",
       "desconto_produto     0.150372             0.699155           0.370858   \n",
       "desconto_frete      -0.054921             0.707289          -0.055891   \n",
       "visitas              0.000000            -0.316896           0.595697   \n",
       "vendas               0.000000            -0.280133           0.415020   \n",
       "faturamento_total    0.202355             0.997384           0.065555   \n",
       "custo_total          0.191027             0.992905           0.044778   \n",
       "desconto_total       0.104307             0.752771           0.279380   \n",
       "lucro                0.112784             0.074556          -0.069022   \n",
       "conversao            0.000000             0.130151          -0.176680   \n",
       "\n",
       "                     custo_produto  custo_frete  custo_mkt  desconto_produto  \\\n",
       "item                      0.220571    -0.137678  -0.100031          0.150372   \n",
       "faturamento_produto       0.994069     0.359845   0.576005          0.699155   \n",
       "faturamento_frete        -0.061291     0.856041   0.683868          0.370858   \n",
       "custo_produto             1.000000     0.312350   0.544930          0.707145   \n",
       "custo_frete               0.312350     1.000000   0.911597          0.649797   \n",
       "custo_mkt                 0.544930     0.911597   1.000000          0.746891   \n",
       "desconto_produto          0.707145     0.649797   0.746891          1.000000   \n",
       "desconto_frete            0.713396     0.454975   0.610620          0.655802   \n",
       "visitas                  -0.361618     0.373836   0.117837          0.051196   \n",
       "vendas                   -0.297101     0.252259   0.130313          0.131584   \n",
       "faturamento_total         0.987523     0.420959   0.624213          0.724475   \n",
       "custo_total               0.993213     0.419283   0.636559          0.754737   \n",
       "desconto_total            0.760824     0.643327   0.763842          0.977698   \n",
       "lucro                     0.004729    -0.236057  -0.277173         -0.485036   \n",
       "conversao                 0.178485    -0.054634   0.096409          0.305118   \n",
       "\n",
       "                     desconto_frete   visitas    vendas  faturamento_total  \\\n",
       "item                      -0.054921  0.000000  0.000000           0.202355   \n",
       "faturamento_produto        0.707289 -0.316896 -0.280133           0.997384   \n",
       "faturamento_frete         -0.055891  0.595697  0.415020           0.065555   \n",
       "custo_produto              0.713396 -0.361618 -0.297101           0.987523   \n",
       "custo_frete                0.454975  0.373836  0.252259           0.420959   \n",
       "custo_mkt                  0.610620  0.117837  0.130313           0.624213   \n",
       "desconto_produto           0.655802  0.051196  0.131584           0.724475   \n",
       "desconto_frete             1.000000 -0.240048 -0.154543           0.701744   \n",
       "visitas                   -0.240048  1.000000  0.735191          -0.273161   \n",
       "vendas                    -0.154543  0.735191  1.000000          -0.249536   \n",
       "faturamento_total          0.701744 -0.273161 -0.249536           1.000000   \n",
       "custo_total                0.738509 -0.305530 -0.252853           0.994028   \n",
       "desconto_total             0.799723 -0.026065  0.061651           0.771364   \n",
       "lucro                     -0.390864  0.019454 -0.198403           0.069408   \n",
       "conversao                  0.258078 -0.208588  0.389315           0.117102   \n",
       "\n",
       "                     custo_total  desconto_total     lucro  conversao  \n",
       "item                    0.191027        0.104307  0.112784   0.000000  \n",
       "faturamento_produto     0.992905        0.752771  0.074556   0.130151  \n",
       "faturamento_frete       0.044778        0.279380 -0.069022  -0.176680  \n",
       "custo_produto           0.993213        0.760824  0.004729   0.178485  \n",
       "custo_frete             0.419283        0.643327 -0.236057  -0.054634  \n",
       "custo_mkt               0.636559        0.763842 -0.277173   0.096409  \n",
       "desconto_produto        0.754737        0.977698 -0.485036   0.305118  \n",
       "desconto_frete          0.738509        0.799723 -0.390864   0.258078  \n",
       "visitas                -0.305530       -0.026065  0.019454  -0.208588  \n",
       "vendas                 -0.252853        0.061651 -0.198403   0.389315  \n",
       "faturamento_total       0.994028        0.771364  0.069408   0.117102  \n",
       "custo_total             1.000000        0.805658 -0.029172   0.169419  \n",
       "desconto_total          0.805658        1.000000 -0.494465   0.314443  \n",
       "lucro                  -0.029172       -0.494465  1.000000  -0.470575  \n",
       "conversao               0.169419        0.314443 -0.470575   1.000000  "
      ]
     },
     "execution_count": 39,
     "metadata": {},
     "output_type": "execute_result"
    }
   ],
   "source": [
    "df_.corr()"
   ]
  },
  {
   "cell_type": "code",
   "execution_count": 40,
   "metadata": {},
   "outputs": [
    {
     "data": {
      "text/plain": [
       "0     -0.762238\n",
       "9     -0.762238\n",
       "18    -0.762238\n",
       "27    -0.356828\n",
       "36    -0.356828\n",
       "         ...   \n",
       "927   -0.694118\n",
       "936   -0.907692\n",
       "945   -0.719512\n",
       "954   -0.750000\n",
       "963   -0.828125\n",
       "Length: 108, dtype: float64"
      ]
     },
     "execution_count": 40,
     "metadata": {},
     "output_type": "execute_result"
    }
   ],
   "source": [
    "# ROI = (Ganho obtido – Investimento) / Investimento\n",
    "\n",
    "#(df_['lucro'] - (df_['custo_total'] + df_['desconto_total'])) / (df_['custo_total'] + df_['desconto_total'])"
   ]
  },
  {
   "cell_type": "code",
   "execution_count": 42,
   "metadata": {},
   "outputs": [
    {
     "data": {
      "text/plain": [
       "0       694.0\n",
       "9       904.0\n",
       "18      722.0\n",
       "27     2980.0\n",
       "36     2196.0\n",
       "        ...  \n",
       "927    1100.0\n",
       "936    1450.0\n",
       "945    2160.0\n",
       "954    2770.0\n",
       "963    3390.0\n",
       "Length: 108, dtype: float64"
      ]
     },
     "execution_count": 42,
     "metadata": {},
     "output_type": "execute_result"
    }
   ],
   "source": [
    "df_['faturamento_frete'] - df_['custo_frete'] - df_['desconto_frete']"
   ]
  },
  {
   "cell_type": "markdown",
   "metadata": {},
   "source": [
    "* diminuir valor do frete\n",
    "* aumentar mkt para aumentar conversão"
   ]
  },
  {
   "cell_type": "markdown",
   "metadata": {},
   "source": [
    "\n",
    "b. Qual ação você sugere como mais efetiva para aumento de vendas, investimento\n",
    "em propaganda, desconto em preço ou desconto em frete e porquê?\n",
    "c. Cite outras conclusões importantes você consegue analisar"
   ]
  },
  {
   "cell_type": "markdown",
   "metadata": {},
   "source": [
    "https://www.sebrae.com.br/sites/PortalSebrae/artigos/como-elaborar-um-plano-de-negocio,37d2438af1c92410VgnVCM100000b272010aRCRD"
   ]
  }
 ],
 "metadata": {
  "kernelspec": {
   "display_name": "Python 3",
   "language": "python",
   "name": "python3"
  },
  "language_info": {
   "codemirror_mode": {
    "name": "ipython",
    "version": 3
   },
   "file_extension": ".py",
   "mimetype": "text/x-python",
   "name": "python",
   "nbconvert_exporter": "python",
   "pygments_lexer": "ipython3",
   "version": "3.6.9"
  }
 },
 "nbformat": 4,
 "nbformat_minor": 4
}
